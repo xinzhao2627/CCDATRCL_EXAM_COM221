{
  "cells": [
    {
      "cell_type": "markdown",
      "metadata": {
        "id": "view-in-github"
      },
      "source": [
        "<a href=\"https://colab.research.google.com/github/robitussin/CCDATRCL_EXAM/blob/main/exam1.ipynb\" target=\"_parent\"><img src=\"https://colab.research.google.com/assets/colab-badge.svg\" alt=\"Open In Colab\"/></a>"
      ]
    },
    {
      "cell_type": "markdown",
      "metadata": {
        "id": "yaz2B0KGFehP"
      },
      "source": [
        "# Midterm Exam 💛💙"
      ]
    },
    {
      "cell_type": "markdown",
      "metadata": {
        "id": "_DmK1ONEFehQ"
      },
      "source": [
        "**Instructions** ❗️❗️\n",
        "\n",
        "❌ Do not remove or modify the notebook **sections**, **subsections**, **exam questions** or **any text** in this python notebook\n",
        "\n",
        "✔️ Put your answer in the designated cells below each question"
      ]
    },
    {
      "cell_type": "markdown",
      "metadata": {
        "id": "TMCAXKWCFehR"
      },
      "source": [
        "## Search"
      ]
    },
    {
      "cell_type": "code",
      "execution_count": 1,
      "metadata": {
        "id": "Fy8nEBRRFehR"
      },
      "outputs": [],
      "source": [
        "def linearSearch(my_list, number):\n",
        "\n",
        "    index = 0\n",
        "\n",
        "    for i in my_list:\n",
        "\n",
        "        if my_list[index] == number:\n",
        "            return index\n",
        "\n",
        "        index = index + 1\n",
        "\n",
        "    return -1"
      ]
    },
    {
      "cell_type": "markdown",
      "metadata": {
        "id": "AjAevpueFehS"
      },
      "source": [
        "1. Using **linear search**, write a `findLargestIncrease()` function to find the largest increase in value between two adjacent numbers in your student number `(10 points)`\n",
        "\n",
        "    **Example:**\n",
        "\n",
        "    student_number = [2,0,2,2,6,2,5,1,9,3]\n",
        "\n",
        "    **Expected Output:**\n",
        "\n",
        "    findLargestIncrease(student_number)\n",
        "\n",
        "    Output: Between 1 and 9\n",
        "\n",
        "    **Explanation:**\n",
        "\n",
        "    From this student_number, the largest increase happened from number 1 to number 9"
      ]
    },
    {
      "cell_type": "code",
      "execution_count": 102,
      "metadata": {
        "id": "JE8nEfyJFehS",
        "colab": {
          "base_uri": "https://localhost:8080/",
          "height": 35
        },
        "outputId": "30debfb1-5c8f-40b5-b5c9-5e505d07afc1"
      },
      "outputs": [
        {
          "output_type": "execute_result",
          "data": {
            "text/plain": [
              "'Between 0 and 6'"
            ],
            "application/vnd.google.colaboratory.intrinsic+json": {
              "type": "string"
            }
          },
          "metadata": {},
          "execution_count": 102
        }
      ],
      "source": [
        "# put your answer here\n",
        "student_number = [2,0,2,2,1,0,6,6,7,2]\n",
        "increases = []\n",
        "def findLargestIncrease(student_number):\n",
        "  increases = []\n",
        "  count = 1\n",
        "  for i in range(0, len(student_number) - 1):\n",
        "    if count == 1:\n",
        "      x = student_number[i+1] - student_number[i]\n",
        "      a = student_number[i]\n",
        "      b = student_number[i+1]\n",
        "\n",
        "    count = 0\n",
        "\n",
        "    if student_number[i+1] - student_number[i] > x:\n",
        "      x = student_number[i+1] - student_number[i]\n",
        "      a = student_number[i]\n",
        "      b = student_number[i+1]\n",
        "  largest = \"Between \" + str(a) + \" and \" + str(b)\n",
        "  return largest\n",
        "\n",
        "findLargestIncrease(student_number)"
      ]
    },
    {
      "cell_type": "markdown",
      "metadata": {
        "id": "nMyr1fNyFehS"
      },
      "source": [
        "2. Using **linear search**, write a `findLargestDecrease()` function to find the largest decrease in value between two adjacent numbers in your student number `(10 points)`\n",
        "\n",
        "    **Example:**\n",
        "\n",
        "    student_number = [2,0,2,2,6,2,5,1,9,3]\n",
        "\n",
        "    **Expected Output:**\n",
        "\n",
        "    findLargestDecrease(student_number)\n",
        "\n",
        "    Output: Between 9 and 3\n",
        "\n",
        "    **Explanation:**\n",
        "\n",
        "    From this student_number, the largest decrease happened from number 9 to number 3"
      ]
    },
    {
      "cell_type": "code",
      "execution_count": 103,
      "metadata": {
        "id": "bfMfQVbVFehS",
        "colab": {
          "base_uri": "https://localhost:8080/",
          "height": 35
        },
        "outputId": "eca4ecf7-8cfa-4b28-8e98-8f1d1bd6a253"
      },
      "outputs": [
        {
          "output_type": "execute_result",
          "data": {
            "text/plain": [
              "'Between 7 and 2'"
            ],
            "application/vnd.google.colaboratory.intrinsic+json": {
              "type": "string"
            }
          },
          "metadata": {},
          "execution_count": 103
        }
      ],
      "source": [
        "# put your answer here\n",
        "student_number = [2,0,2,2,1,0,6,6,7,2]\n",
        "increases = []\n",
        "def findLargestIncrease(student_number):\n",
        "  increases = []\n",
        "  count = 1\n",
        "  for i in range(0, len(student_number) - 1):\n",
        "    if count == 1:\n",
        "      x = student_number[i+1] - student_number[i]\n",
        "      a = student_number[i]\n",
        "      b = student_number[i+1]\n",
        "\n",
        "    count = 0\n",
        "\n",
        "    if student_number[i+1] - student_number[i] < x:\n",
        "      x = student_number[i+1] - student_number[i]\n",
        "      a = student_number[i]\n",
        "      b = student_number[i+1]\n",
        "  largest = \"Between \" + str(a) + \" and \" + str(b)\n",
        "  return largest\n",
        "\n",
        "findLargestIncrease(student_number)"
      ]
    },
    {
      "cell_type": "markdown",
      "metadata": {
        "id": "NtKSQn9QFehS"
      },
      "source": [
        "## Linked List"
      ]
    },
    {
      "cell_type": "code",
      "execution_count": 3,
      "metadata": {
        "id": "0HP5zyJcFehS"
      },
      "outputs": [],
      "source": [
        "class Node:\n",
        "\n",
        "    def __init__(self, data):\n",
        "        self.data = data\n",
        "        self.next = None  # null"
      ]
    },
    {
      "cell_type": "code",
      "execution_count": 4,
      "metadata": {
        "id": "A-8Uefe7FehS"
      },
      "outputs": [],
      "source": [
        "class LinkedList:\n",
        "\n",
        "    def __init__(self):\n",
        "        self.head = None\n",
        "\n",
        "    def traverse(self, node):\n",
        "        while node:\n",
        "            print(node.data, end=\" -> \")\n",
        "            node = node.next"
      ]
    },
    {
      "cell_type": "markdown",
      "metadata": {
        "id": "uPgIJJuSFehT"
      },
      "source": [
        "**Instructions** ❗️❗️\n",
        "\n",
        "Use the pre-defined linked list class/functions to create a linked list"
      ]
    },
    {
      "cell_type": "markdown",
      "metadata": {
        "id": "WIwpW7Q2FehT"
      },
      "source": [
        "1. Create a Singly linked list named **num_list** and print all of its elements. `(5 points)`\n",
        "\n",
        "- **num_list** should contain all digits of your student number.\n",
        "\n",
        "    **Expected Output:**\n",
        "\n",
        "    print(num_list)\n",
        "\n",
        "    [2, 0, 2, 2, 1, 2, 3, 4, 5, 6]"
      ]
    },
    {
      "cell_type": "code",
      "execution_count": 117,
      "metadata": {
        "id": "Lihv0JPiFehT",
        "colab": {
          "base_uri": "https://localhost:8080/"
        },
        "outputId": "081100e0-3423-4f8a-97a4-97d6b5e0ee0d"
      },
      "outputs": [
        {
          "output_type": "stream",
          "name": "stdout",
          "text": [
            "2 -> 0 -> 2 -> 2 -> 1 -> 0 -> 6 -> 6 -> 7 -> 2 -> "
          ]
        }
      ],
      "source": [
        "# put your answer here\n",
        "num_list = LinkedList()\n",
        "num_list.head = Node(2)\n",
        "\n",
        "body2 = Node(0)\n",
        "body3 = Node(2)\n",
        "body4 = Node(2)\n",
        "body5 = Node(1)\n",
        "body6 = Node(0)\n",
        "body7 = Node(6)\n",
        "body8 = Node(6)\n",
        "body9 = Node(7)\n",
        "tail = Node(2)\n",
        "\n",
        "num_list.head.next = body2\n",
        "body2.next = body3\n",
        "body3.next = body4\n",
        "body4.next = body5\n",
        "body5.next = body6\n",
        "body6.next = body7\n",
        "body7.next = body8\n",
        "body8.next = body9\n",
        "body9.next = tail\n",
        "\n",
        "num_list.traverse(num_list.head)\n",
        "\n"
      ]
    },
    {
      "cell_type": "markdown",
      "metadata": {
        "id": "dqA2UYrYFehT"
      },
      "source": [
        "2. Write a `hasPrime()` function to test whether a prime number is in the last six digits of **num_list**. `(5 points)`\n",
        "\n",
        "- If a prime number is in the last six digits of **num_list**, the method should return **true**\n",
        "\n",
        "- If a prime number is not in the last six digits of **num_list**, the method should return **false**\n",
        "\n",
        "    **Expected Output:**\n",
        "\n",
        "    hasPrime(num_list)\n",
        "\n",
        "    True"
      ]
    },
    {
      "cell_type": "code",
      "execution_count": 116,
      "metadata": {
        "id": "GYwsQNz5FehT",
        "colab": {
          "base_uri": "https://localhost:8080/"
        },
        "outputId": "348a6b02-f4de-424c-c666-84c090ea3d1a"
      },
      "outputs": [
        {
          "output_type": "execute_result",
          "data": {
            "text/plain": [
              "True"
            ]
          },
          "metadata": {},
          "execution_count": 116
        }
      ],
      "source": [
        "# put your answer here\n",
        "def hasPrime(num_list):\n",
        "  x = False\n",
        "  count = 0\n",
        "  while num_list:\n",
        "    count += 1\n",
        "    if x == True:\n",
        "      break\n",
        "    if count > 4:\n",
        "      divcount = 0\n",
        "      for i in range (0, num_list.data):\n",
        "        g = i + 1\n",
        "        if num_list.data % g == 0:\n",
        "          divcount += 1\n",
        "      if divcount == 2:\n",
        "        x = True\n",
        "        break\n",
        "    num_list = num_list.next\n",
        "  return x\n",
        "\n",
        "\n",
        "num_list = LinkedList()\n",
        "num_list.head = Node(2)\n",
        "\n",
        "body2 = Node(0)\n",
        "body3 = Node(2)\n",
        "body4 = Node(2)\n",
        "body5 = Node(1)\n",
        "body6 = Node(0)\n",
        "body7 = Node(6)\n",
        "body8 = Node(6)\n",
        "body9 = Node(7)\n",
        "tail = Node(2)\n",
        "\n",
        "num_list.head.next = body2\n",
        "body2.next = body3\n",
        "body3.next = body4\n",
        "body4.next = body5\n",
        "body5.next = body6\n",
        "body6.next = body7\n",
        "body7.next = body8\n",
        "body8.next = body9\n",
        "body9.next = tail\n",
        "\n",
        "hasPrime(num_list.head)"
      ]
    },
    {
      "cell_type": "markdown",
      "metadata": {
        "id": "5Qb0BOiwFehT"
      },
      "source": [
        "3. Write a `removeZeroes()` function to remove all occurrences of zeroes in **num_list**. `(5 points)`\n",
        "\n",
        "- If a zero is in **num_list**, return **num_list**\n",
        "\n",
        "- If there are no zeroes in **num_list**, return **\"no zeros found\"**\n",
        "\n",
        "    **Expected Output:**\n",
        "\n",
        "    removeZeroes(num_list)\n",
        "\n",
        "    [2, 2, 1, 2, 3, 4, 5, 6]"
      ]
    },
    {
      "cell_type": "code",
      "execution_count": 115,
      "metadata": {
        "id": "k1vAHUYuFehT",
        "colab": {
          "base_uri": "https://localhost:8080/"
        },
        "outputId": "6bb6a756-137b-48a4-d8ba-b8780bc05b9a"
      },
      "outputs": [
        {
          "output_type": "stream",
          "name": "stdout",
          "text": [
            "2 -> 2 -> 2 -> 1 -> 6 -> 6 -> 7 -> 2 -> "
          ]
        }
      ],
      "source": [
        "# put your answer here\n",
        "def removeZeroes(num_list):\n",
        "  temp = num_list.head\n",
        "  if (temp is not None):\n",
        "    if temp.data == 0:\n",
        "      num_list.head = temp.next\n",
        "      temp = None\n",
        "      return\n",
        "    while (temp is not None):\n",
        "      if temp.data == 0:\n",
        "        break\n",
        "      prev = temp\n",
        "      temp = temp.next\n",
        "    if (temp == None):\n",
        "      return\n",
        "  prev.next = temp.next\n",
        "  temp = None\n",
        "\n",
        "num_list = LinkedList()\n",
        "num_list.head = Node(2)\n",
        "\n",
        "body2 = Node(0)\n",
        "body3 = Node(2)\n",
        "body4 = Node(2)\n",
        "body5 = Node(1)\n",
        "body6 = Node(0)\n",
        "body7 = Node(6)\n",
        "body8 = Node(6)\n",
        "body9 = Node(7)\n",
        "tail = Node(2)\n",
        "\n",
        "num_list.head.next = body2\n",
        "body2.next = body3\n",
        "body3.next = body4\n",
        "body4.next = body5\n",
        "body5.next = body6\n",
        "body6.next = body7\n",
        "body7.next = body8\n",
        "body8.next = body9\n",
        "body9.next = tail\n",
        "\n",
        "def iterate(num_list):\n",
        "  temp_list = num_list.head\n",
        "  for i in range(0, 9):\n",
        "    while temp_list:\n",
        "      if temp_list.data == 0:\n",
        "        removeZeroes(num_list)\n",
        "      temp_list = temp_list.next\n",
        "  return num_list\n",
        "\n",
        "num_list = iterate(num_list)\n",
        "num_list.traverse(num_list.head)\n"
      ]
    },
    {
      "cell_type": "markdown",
      "metadata": {
        "id": "SKAlpglNFehT"
      },
      "source": [
        "4. Insert a dash symbol between the 4th and 5th digit in **num_list**. `(5 points)`\n",
        "\n",
        "    **Expected Output:**\n",
        "\n",
        "    print(num_list)\n",
        "\n",
        "    [2, 0, 2, 2, \"-\", 1, 2, 3, 4, 5, 6]"
      ]
    },
    {
      "cell_type": "code",
      "execution_count": 113,
      "metadata": {
        "id": "vF7fimZ-FehT",
        "colab": {
          "base_uri": "https://localhost:8080/"
        },
        "outputId": "6cab901b-7a63-4eb8-cf3d-7d2183144771"
      },
      "outputs": [
        {
          "output_type": "stream",
          "name": "stdout",
          "text": [
            "2022-106672"
          ]
        }
      ],
      "source": [
        "# put your answer here\n",
        "num_list = LinkedList()\n",
        "num_list.head = Node(2)\n",
        "\n",
        "body2 = Node(0)\n",
        "body3 = Node(2)\n",
        "body4 = Node(2)\n",
        "body5 = Node(1)\n",
        "body6 = Node(0)\n",
        "body7 = Node(6)\n",
        "body8 = Node(6)\n",
        "body9 = Node(7)\n",
        "tail = Node(2)\n",
        "\n",
        "num_list.head.next = body2\n",
        "body2.next = body3\n",
        "body3.next = body4\n",
        "body4.next = body5\n",
        "body5.next = body6\n",
        "body6.next = body7\n",
        "body7.next = body8\n",
        "body8.next = body9\n",
        "body9.next = tail\n",
        "\n",
        "def Print(num_list):\n",
        "  count = 0\n",
        "  while num_list:\n",
        "    count += 1\n",
        "    if count == 5:\n",
        "      print(\"-\", end = \"\")\n",
        "    print(num_list.data, end = \"\")\n",
        "    num_list = num_list.next\n",
        "\n",
        "\n",
        "Print(num_list.head)"
      ]
    },
    {
      "cell_type": "markdown",
      "metadata": {
        "id": "KkC-LgdxFehT"
      },
      "source": [
        "## Stack"
      ]
    },
    {
      "cell_type": "code",
      "execution_count": 118,
      "metadata": {
        "id": "UYTqB1u_FehU"
      },
      "outputs": [],
      "source": [
        "# Creating a stack\n",
        "def create_stack():\n",
        "    stack = []\n",
        "    return stack\n",
        "\n",
        "\n",
        "def print_stack(stack):\n",
        "\n",
        "    if (check_empty(stack)):\n",
        "        return \"stack is empty\"\n",
        "\n",
        "    # Create a copy of the stack and reverse the elements\n",
        "    tempStack = stack.copy()\n",
        "    tempStack.reverse()\n",
        "\n",
        "    # Print all elements using a loop\n",
        "    for i in tempStack:\n",
        "        print(i)\n",
        "\n",
        "    # Delete the copy to free up memory\n",
        "    del tempStack\n",
        "\n",
        "# Creating an empty stack\n",
        "\n",
        "\n",
        "def check_empty(stack):\n",
        "    return len(stack) == 0\n",
        "\n",
        "\n",
        "# Adding items into the stack\n",
        "def push(stack, item):\n",
        "    stack.append(item)\n",
        "    print(\"pushed item: \" + item)\n",
        "\n",
        "\n",
        "# Removing an element from the stack\n",
        "def pop(stack):\n",
        "    if (check_empty(stack)):\n",
        "        return \"stack is empty\"\n",
        "\n",
        "    return stack.pop()\n",
        "\n",
        "\n",
        "def peek(stack):\n",
        "\n",
        "    # Use negative indexing to display the last element of the list\n",
        "    print(stack[-1])"
      ]
    },
    {
      "cell_type": "markdown",
      "metadata": {
        "id": "wLAQchs8FehU"
      },
      "source": [
        "**Instructions** ❗️❗️\n",
        "\n",
        "Use the pre-defined stack class/functions to create a stack"
      ]
    },
    {
      "cell_type": "markdown",
      "metadata": {
        "id": "37cg9BoCFehU"
      },
      "source": [
        "1. Create two (2) stacks named **name_stack** and **num_stack** `(5 points)`\n",
        "\n",
        "- **name_stack** should contain all letters of your first name.\n",
        "- **num_stack** should contain all digits of your student number.\n",
        "\n",
        "    **Expected Output:**\n",
        "\n",
        "    print(name_stack)\n",
        "\n",
        "    ['E', 'L', 'I', 'Z', 'E', 'R']\n",
        "\n",
        "    print(num_stack)\n",
        "\n",
        "    [2,0,2,2,1,2,3,4,5,6]"
      ]
    },
    {
      "cell_type": "code",
      "execution_count": 119,
      "metadata": {
        "id": "HlUIUQzQFehU",
        "colab": {
          "base_uri": "https://localhost:8080/"
        },
        "outputId": "1e85e937-486c-48d1-9ba0-10e1b9333141"
      },
      "outputs": [
        {
          "output_type": "stream",
          "name": "stdout",
          "text": [
            "pushed item: R\n",
            "pushed item: A\n",
            "pushed item: I\n",
            "pushed item: N\n",
            "pushed item: N\n",
            "pushed item: A\n",
            "pushed item: N\n",
            "pushed item: D\n",
            "pushed item: 2\n",
            "pushed item: 0\n",
            "pushed item: 2\n",
            "pushed item: 2\n",
            "pushed item: 1\n",
            "pushed item: 0\n",
            "pushed item: 6\n",
            "pushed item: 6\n",
            "pushed item: 7\n",
            "pushed item: 2\n",
            "['R', 'A', 'I', 'N', 'N', 'A', 'N', 'D']\n",
            "['2', '0', '2', '2', '1', '0', '6', '6', '7', '2']\n"
          ]
        }
      ],
      "source": [
        "# put your answer here\n",
        "name_stack = create_stack()\n",
        "num_stack = create_stack()\n",
        "\n",
        "push(name_stack, 'R')\n",
        "push(name_stack, 'A')\n",
        "push(name_stack, 'I')\n",
        "push(name_stack, 'N')\n",
        "push(name_stack, 'N')\n",
        "push(name_stack, 'A')\n",
        "push(name_stack, 'N')\n",
        "push(name_stack, 'D')\n",
        "\n",
        "push(num_stack, '2')\n",
        "push(num_stack, '0')\n",
        "push(num_stack, '2')\n",
        "push(num_stack, '2')\n",
        "push(num_stack, '1')\n",
        "push(num_stack, '0')\n",
        "push(num_stack, '6')\n",
        "push(num_stack, '6')\n",
        "push(num_stack, '7')\n",
        "push(num_stack, '2')\n",
        "\n",
        "print(name_stack)\n",
        "print(num_stack)"
      ]
    },
    {
      "cell_type": "markdown",
      "metadata": {
        "id": "8cySe9LXFehU"
      },
      "source": [
        "2. Create a stack named **my_stack** that follows the following format: `(5 points)`\n",
        "\n",
        "- The first element should be the **5th digit in your student number**\n",
        "- The succeeding elements should be the letters of your **first name**\n",
        "- The last element should be the **last digit of your student number**\n",
        "\n",
        "    **Expected Output:**\n",
        "\n",
        "    my_stack = [1, E, L, I, Z, E, R, 6]"
      ]
    },
    {
      "cell_type": "code",
      "execution_count": 120,
      "metadata": {
        "id": "bEnCoAhjFehU",
        "colab": {
          "base_uri": "https://localhost:8080/"
        },
        "outputId": "2cd2e3ac-74f2-4fab-cf39-1efcc5cd7290"
      },
      "outputs": [
        {
          "output_type": "stream",
          "name": "stdout",
          "text": [
            "pushed item: 1\n",
            "pushed item: R\n",
            "pushed item: A\n",
            "pushed item: I\n",
            "pushed item: N\n",
            "pushed item: N\n",
            "pushed item: A\n",
            "pushed item: N\n",
            "pushed item: D\n",
            "pushed item: 2\n",
            "['1', 'R', 'A', 'I', 'N', 'N', 'A', 'N', 'D', '2']\n"
          ]
        }
      ],
      "source": [
        "# put your answer here\n",
        "my_stack = create_stack()\n",
        "\n",
        "push(my_stack, '1')\n",
        "push(my_stack, 'R')\n",
        "push(my_stack, 'A')\n",
        "push(my_stack, 'I')\n",
        "push(my_stack, 'N')\n",
        "push(my_stack, 'N')\n",
        "push(my_stack, 'A')\n",
        "push(my_stack, 'N')\n",
        "push(my_stack, 'D')\n",
        "push(my_stack, '2')\n",
        "\n",
        "print(my_stack)"
      ]
    },
    {
      "cell_type": "markdown",
      "metadata": {
        "id": "8a8_KP5nFehU"
      },
      "source": [
        "3. Write a `verifyStack()` function that will take in `my_stack` and check if its format has been followed `(10 points)`\n",
        "\n",
        "- Return **True** if the format has been followed\n",
        "- Return **False** if the format was not followed\n",
        "- Verify the format by checking the contents of **my_stack** with **name_stack** and **num_stack**\n",
        "\n",
        "    **Expected Output:**\n",
        "\n",
        "    my_stack = [1, E, L, I, Z, E, R, 6]\n",
        "\n",
        "    verifyStack(my_stack)\n",
        "\n",
        "    True\n",
        "\n",
        "    my_stack = [1, S, L, I, Z, E, R, 7]\n",
        "\n",
        "    verifyStack(my_stack)\n",
        "\n",
        "    False"
      ]
    },
    {
      "cell_type": "code",
      "execution_count": 121,
      "metadata": {
        "id": "RdANSxD0FehU",
        "colab": {
          "base_uri": "https://localhost:8080/"
        },
        "outputId": "8d9dff18-7ef8-406f-8e14-4c0e1da7cf14"
      },
      "outputs": [
        {
          "output_type": "stream",
          "name": "stdout",
          "text": [
            "pushed item: 1\n",
            "pushed item: R\n",
            "pushed item: A\n",
            "pushed item: I\n",
            "pushed item: N\n",
            "pushed item: N\n",
            "pushed item: A\n",
            "pushed item: N\n",
            "pushed item: D\n",
            "pushed item: 2\n",
            "pushed item: R\n",
            "pushed item: A\n",
            "pushed item: I\n",
            "pushed item: N\n",
            "pushed item: N\n",
            "pushed item: A\n",
            "pushed item: N\n",
            "pushed item: D\n",
            "pushed item: 2\n",
            "pushed item: 0\n",
            "pushed item: 2\n",
            "pushed item: 2\n",
            "pushed item: 1\n",
            "pushed item: 0\n",
            "pushed item: 6\n",
            "pushed item: 6\n",
            "pushed item: 7\n",
            "pushed item: 2\n",
            "\n",
            "\n",
            "True\n"
          ]
        }
      ],
      "source": [
        "# put your answer here\n",
        "my_stack = create_stack()\n",
        "push(my_stack, '1')\n",
        "push(my_stack, 'R')\n",
        "push(my_stack, 'A')\n",
        "push(my_stack, 'I')\n",
        "push(my_stack, 'N')\n",
        "push(my_stack, 'N')\n",
        "push(my_stack, 'A')\n",
        "push(my_stack, 'N')\n",
        "push(my_stack, 'D')\n",
        "push(my_stack, '2')\n",
        "name_stack = create_stack()\n",
        "num_stack = create_stack()\n",
        "push(name_stack, 'R')\n",
        "push(name_stack, 'A')\n",
        "push(name_stack, 'I')\n",
        "push(name_stack, 'N')\n",
        "push(name_stack, 'N')\n",
        "push(name_stack, 'A')\n",
        "push(name_stack, 'N')\n",
        "push(name_stack, 'D')\n",
        "push(num_stack, '2')\n",
        "push(num_stack, '0')\n",
        "push(num_stack, '2')\n",
        "push(num_stack, '2')\n",
        "push(num_stack, '1')\n",
        "push(num_stack, '0')\n",
        "push(num_stack, '6')\n",
        "push(num_stack, '6')\n",
        "push(num_stack, '7')\n",
        "push(num_stack, '2')\n",
        "print()\n",
        "print()\n",
        "\n",
        "def verifyStack(my_stack, num_stack, name_stack):\n",
        "  x = True\n",
        "  for i in range(0, len(name_stack)):\n",
        "    if my_stack[i + 1] != name_stack[i]:\n",
        "      x = False\n",
        "      break\n",
        "  if my_stack[0] != num_stack[4] and my_stack[len(my_stack) - 1] != num_stack[len(num_stacl) - 1]:\n",
        "    x = False\n",
        "  return x\n",
        "print(verifyStack(my_stack, num_stack, name_stack))"
      ]
    },
    {
      "cell_type": "markdown",
      "metadata": {
        "id": "UC5C64B2FehU"
      },
      "source": [
        "## Queue"
      ]
    },
    {
      "cell_type": "code",
      "execution_count": 122,
      "metadata": {
        "id": "NJJ0j0LHFehU"
      },
      "outputs": [],
      "source": [
        "class Queue:\n",
        "    def __init__(self):\n",
        "        self.queue = []\n",
        "\n",
        "    # Add an element\n",
        "    def enqueue(self, item):\n",
        "        self.queue.append(item)\n",
        "\n",
        "    # Remove an element\n",
        "    def dequeue(self):\n",
        "        if len(self.queue) < 1:\n",
        "            return None\n",
        "        return self.queue.pop(0)\n",
        "\n",
        "    # Display  the queue\n",
        "    def display(self):\n",
        "        print(self.queue)\n",
        "\n",
        "    def size(self):\n",
        "        return len(self.queue)\n",
        "\n",
        "    def peek(self):\n",
        "        return self.queue[0]"
      ]
    },
    {
      "cell_type": "markdown",
      "metadata": {
        "id": "80OekpbeFehV"
      },
      "source": [
        "**Instructions** ❗️❗️\n",
        "\n",
        "Use the pre-defined queue class/functions to create a Queue"
      ]
    },
    {
      "cell_type": "markdown",
      "metadata": {
        "id": "_Hf0OP5cFehV"
      },
      "source": [
        "1. Create a simple queue named **num_queue** `(5 points)`\n",
        "\n",
        "- **num_queue** should contain all digits of your student number.\n",
        "\n",
        "    **Expected Output:**\n",
        "\n",
        "    print(num_queue)\n",
        "\n",
        "    [2,0,2,2,1,2,3,4,5,6]"
      ]
    },
    {
      "cell_type": "code",
      "execution_count": 123,
      "metadata": {
        "id": "_mgmE4ArFehV",
        "colab": {
          "base_uri": "https://localhost:8080/"
        },
        "outputId": "1e45d231-49fd-48f3-ba5f-d0aad62a7683"
      },
      "outputs": [
        {
          "output_type": "stream",
          "name": "stdout",
          "text": [
            "[2, 0, 2, 2, 1, 0, 6, 6, 7, 2]\n"
          ]
        }
      ],
      "source": [
        "# put your answer here\n",
        "num_queue = Queue()\n",
        "num_queue.enqueue(2)\n",
        "num_queue.enqueue(0)\n",
        "num_queue.enqueue(2)\n",
        "num_queue.enqueue(2)\n",
        "num_queue.enqueue(1)\n",
        "num_queue.enqueue(0)\n",
        "num_queue.enqueue(6)\n",
        "num_queue.enqueue(6)\n",
        "num_queue.enqueue(7)\n",
        "num_queue.enqueue(2)\n",
        "\n",
        "print(num_queue.queue)"
      ]
    },
    {
      "cell_type": "markdown",
      "metadata": {
        "id": "1pHG8t6DFehV"
      },
      "source": [
        "2. Write a `getMax()` or `getMin()` function for **num_queue** `(5 points)`\n",
        "\n",
        "- If your student number ends with an odd number, create a `getMax()` function that will return the largest number in **num_queue**\n",
        "- If your student number ends with an even number, create a `getMin()` function that will return the lowest number in **num_queue**\n",
        "\n",
        "    **Expected Output for getMax():**\n",
        "\n",
        "    getMax(num_queue)\n",
        "\n",
        "    6\n",
        "\n",
        "    **Expected Output for getMin():**\n",
        "\n",
        "    getMin(num_queue)\n",
        "\n",
        "    0"
      ]
    },
    {
      "cell_type": "code",
      "execution_count": 124,
      "metadata": {
        "id": "itj2U610FehV",
        "colab": {
          "base_uri": "https://localhost:8080/"
        },
        "outputId": "60abf528-9a18-4d58-9be1-599a23d3b80a"
      },
      "outputs": [
        {
          "output_type": "stream",
          "name": "stdout",
          "text": [
            "7\n"
          ]
        }
      ],
      "source": [
        "# put your answer here\n",
        "def getMax(num_queue):\n",
        "  x = 0\n",
        "  for i in num_queue.queue:\n",
        "    if i > x:\n",
        "      x = i\n",
        "  return x\n",
        "def getMin(num_queue):\n",
        "  x = 9\n",
        "  for i in num_queue.queue:\n",
        "    if i < x:\n",
        "      x = i\n",
        "  return x\n",
        "\n",
        "num_queue = Queue()\n",
        "num_queue.enqueue(2)\n",
        "num_queue.enqueue(0)\n",
        "num_queue.enqueue(2)\n",
        "num_queue.enqueue(2)\n",
        "num_queue.enqueue(1)\n",
        "num_queue.enqueue(0)\n",
        "num_queue.enqueue(6)\n",
        "num_queue.enqueue(6)\n",
        "num_queue.enqueue(7)\n",
        "num_queue.enqueue(2)\n",
        "\n",
        "if num_queue.queue[len(num_queue.queue) - 1] % 2 == 0:\n",
        "  print(getMax(num_queue))\n",
        "else:\n",
        "  print(getMin(num_queue))"
      ]
    },
    {
      "cell_type": "markdown",
      "metadata": {
        "id": "YkgmP6GwFehV"
      },
      "source": [
        "3. Write a `getOdd()` or `getEven()` function for  **num_queue** `(5 points)`\n",
        "\n",
        "- If your student number ends with an **odd number**, create a `getOdd()` function that will return all odd numbers in **num_queue**\n",
        "- If your student number ends with an **even number**, create a `getEven()` function that will return all even numbers in **num_queue**\n",
        "\n",
        "    **Expected Output for getOdd():**\n",
        "\n",
        "    getOdd(num_queue)\n",
        "\n",
        "    [1, 3, 5]\n",
        "\n",
        "    **Expected Output for getEven():**\n",
        "\n",
        "    getEven(num_queue)\n",
        "\n",
        "    [0, 2, 4, 6]"
      ]
    },
    {
      "cell_type": "code",
      "execution_count": 125,
      "metadata": {
        "id": "2Bc7E1zNFehV",
        "colab": {
          "base_uri": "https://localhost:8080/"
        },
        "outputId": "14d613ff-45ee-4d4c-a2bd-1b8706dd22e2"
      },
      "outputs": [
        {
          "output_type": "stream",
          "name": "stdout",
          "text": [
            "[2, 0, 2, 2, 0, 6, 6, 2]\n"
          ]
        }
      ],
      "source": [
        "# put your answer here\n",
        "def getOdd(num_queue):\n",
        "  x = []\n",
        "  for i in num_queue.queue:\n",
        "    if i % 2 != 0:\n",
        "      x.append(i)\n",
        "  return x\n",
        "def getEven(num_queue):\n",
        "  x = []\n",
        "  j = 0\n",
        "  for i in num_queue.queue:\n",
        "    if i % 2 == 0:\n",
        "      x.append(i)\n",
        "  return x\n",
        "\n",
        "num_queue = Queue()\n",
        "num_queue.enqueue(2)\n",
        "num_queue.enqueue(0)\n",
        "num_queue.enqueue(2)\n",
        "num_queue.enqueue(2)\n",
        "num_queue.enqueue(1)\n",
        "num_queue.enqueue(0)\n",
        "num_queue.enqueue(6)\n",
        "num_queue.enqueue(6)\n",
        "num_queue.enqueue(7)\n",
        "num_queue.enqueue(2)\n",
        "\n",
        "if num_queue.queue[len(num_queue.queue) - 1] % 2 == 0:\n",
        "  print(getEven(num_queue))\n",
        "else:\n",
        "  print(getOdd(num_queue))"
      ]
    },
    {
      "cell_type": "markdown",
      "metadata": {
        "id": "kuzWF5g4FehV"
      },
      "source": [
        "4. Write a `removeDup()` function that will remove all duplicates in **num_queue** `(5 points)`\n",
        "\n",
        "    **Expected Output:**\n",
        "\n",
        "    removeDup(num_queue)\n",
        "\n",
        "    [2,0,1,3,4,5,6]"
      ]
    },
    {
      "cell_type": "code",
      "execution_count": 126,
      "metadata": {
        "id": "I8LeQP8MFehY",
        "colab": {
          "base_uri": "https://localhost:8080/"
        },
        "outputId": "7d2efe56-f3ac-459a-83ce-868276b60635"
      },
      "outputs": [
        {
          "output_type": "stream",
          "name": "stdout",
          "text": [
            "[2, 0, 1, 6, 7]\n"
          ]
        }
      ],
      "source": [
        "# put your answer here\n",
        "num_queue = Queue()\n",
        "num_queue.enqueue(2)\n",
        "num_queue.enqueue(0)\n",
        "num_queue.enqueue(2)\n",
        "num_queue.enqueue(2)\n",
        "num_queue.enqueue(1)\n",
        "num_queue.enqueue(0)\n",
        "num_queue.enqueue(6)\n",
        "num_queue.enqueue(6)\n",
        "num_queue.enqueue(7)\n",
        "num_queue.enqueue(2)\n",
        "\n",
        "def removeDup(num_queue):\n",
        "  temp = []\n",
        "  count = 0\n",
        "  for i in num_queue.queue:\n",
        "    if count == 0:\n",
        "      temp.append(i)\n",
        "    count = 1\n",
        "    nodupe = True\n",
        "    for j in temp:\n",
        "      if i == j:\n",
        "        nodupe = False\n",
        "    if nodupe:\n",
        "      temp.append(i)\n",
        "  print(temp)\n",
        "\n",
        "removeDup(num_queue)"
      ]
    },
    {
      "cell_type": "markdown",
      "metadata": {
        "id": "LVfZTh8YFehZ"
      },
      "source": [
        "## Sort"
      ]
    },
    {
      "cell_type": "markdown",
      "metadata": {
        "id": "bm9lonfzFehZ"
      },
      "source": [
        "**Instructions** ❗️❗️\n",
        "\n",
        "Use the any sorting algoritms"
      ]
    },
    {
      "cell_type": "markdown",
      "metadata": {
        "id": "EJTlxhEdFehZ"
      },
      "source": [
        "1. Using any sorting algorithm, sort the **last 6 digits** of your student number in ascending order `(5 points)`\n",
        "\n",
        "    **Example:**\n",
        "\n",
        "    student_number = [2,0,2,2,6,2,5,1,3,4]\n",
        "\n",
        "    **Expected Output:**\n",
        "\n",
        "    print(student_number)\n",
        "\n",
        "    [2,0,2,2,1,2,3,4,5,6]\n"
      ]
    },
    {
      "cell_type": "code",
      "execution_count": 127,
      "metadata": {
        "id": "MkZKfveOFehZ",
        "colab": {
          "base_uri": "https://localhost:8080/"
        },
        "outputId": "f1344aa1-1e33-43e6-ea51-515ac86d4fd6"
      },
      "outputs": [
        {
          "output_type": "stream",
          "name": "stdout",
          "text": [
            "[2, 0, 2, 2, 0, 1, 2, 6, 6, 7]\n"
          ]
        }
      ],
      "source": [
        "# put your answer here\n",
        "student_number = [2,0,2,2,1,0,6,6,7,2]\n",
        "def insertionSort(array):\n",
        "  Year = []\n",
        "  Tag = []\n",
        "  for i in range(0, len(array)):\n",
        "    if i < 4:\n",
        "      Year.append(array[i])\n",
        "    else:\n",
        "      Tag.append(array[i])\n",
        "  for step in range(1, len(Tag)):\n",
        "      key = Tag[step]\n",
        "      j = step - 1\n",
        "      # Compare key with each element on the left of it until an element smaller than it is found\n",
        "      # For descending order, change key<array[j] to key>array[j].\n",
        "      while j >= 0 and key < Tag[j]:\n",
        "          Tag[j + 1] = Tag[j]\n",
        "          j = j - 1\n",
        "\n",
        "      # Place key at after the element just smaller than it.\n",
        "      Tag[j + 1] = key\n",
        "  Year.extend(Tag)\n",
        "  array = Year\n",
        "  return array\n",
        "\n",
        "print(insertionSort(student_number))"
      ]
    },
    {
      "cell_type": "markdown",
      "metadata": {
        "id": "sC2JZRZMFehZ"
      },
      "source": [
        "2. Using your student_number, separately sort the even numbers in **increasing order** and the odd numbers in **decreasing order** `(15 points)`\n",
        "\n",
        "    **Example:**\n",
        "\n",
        "    student_number = [2,0,2,2,1,2,3,4,5,6]\n",
        "\n",
        "    **Expected Output:**\n",
        "\n",
        "    print(student_number)\n",
        "\n",
        "    [0,2,2,2,2,4,6,5,3,1]"
      ]
    },
    {
      "cell_type": "code",
      "source": [
        "student_number = [2,0,2,2,1,0,6,6,7,2]\n",
        "def insertionSort(array):\n",
        "  Even = []\n",
        "  Odd = []\n",
        "  for i in range(0, len(array)):\n",
        "\n",
        "    if array[i] % 2 == 0:\n",
        "      Even.append(array[i])\n",
        "    else:\n",
        "      Odd.append(array[i])\n",
        "\n",
        "  for step in range(1, len(Even)):\n",
        "      key = Even[step]\n",
        "      j = step - 1\n",
        "      while j >= 0 and key < Even[j]:\n",
        "          Even[j + 1] = Even[j]\n",
        "          j = j - 1\n",
        "      Even[j + 1] = key\n",
        "\n",
        "  for step in range(1, len(Odd)):\n",
        "    key = Odd[step]\n",
        "    j = step - 1\n",
        "    while j >= 0 and key > Odd[j]:\n",
        "        Odd[j + 1] = Odd[j]\n",
        "        j = j - 1\n",
        "    Odd[j + 1] = key\n",
        "  Even.extend(Odd)\n",
        "  array = Even\n",
        "  return array\n",
        "\n",
        "print(insertionSort(student_number))"
      ],
      "metadata": {
        "colab": {
          "base_uri": "https://localhost:8080/"
        },
        "id": "79F_BXGfuShl",
        "outputId": "d51e3b1b-a44c-4f39-ad82-59e306efde8b"
      },
      "execution_count": 128,
      "outputs": [
        {
          "output_type": "stream",
          "name": "stdout",
          "text": [
            "[0, 0, 2, 2, 2, 2, 6, 6, 7, 1]\n"
          ]
        }
      ]
    },
    {
      "cell_type": "code",
      "source": [],
      "metadata": {
        "id": "RBJr45b8uAzI"
      },
      "execution_count": null,
      "outputs": []
    }
  ],
  "metadata": {
    "kernelspec": {
      "display_name": "Python 3",
      "language": "python",
      "name": "python3"
    },
    "language_info": {
      "codemirror_mode": {
        "name": "ipython",
        "version": 3
      },
      "file_extension": ".py",
      "mimetype": "text/x-python",
      "name": "python",
      "nbconvert_exporter": "python",
      "pygments_lexer": "ipython3",
      "version": "3.9.13"
    },
    "orig_nbformat": 4,
    "colab": {
      "provenance": []
    }
  },
  "nbformat": 4,
  "nbformat_minor": 0
}